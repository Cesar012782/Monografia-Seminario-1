{
  "nbformat": 4,
  "nbformat_minor": 0,
  "metadata": {
    "colab": {
      "name": "DATA VTA.ipynb",
      "private_outputs": true,
      "provenance": []
    },
    "kernelspec": {
      "name": "python3",
      "display_name": "Python 3"
    },
    "language_info": {
      "name": "python"
    }
  },
  "cells": [
    {
      "cell_type": "code",
      "execution_count": null,
      "metadata": {
        "id": "9ablTdSES2bJ"
      },
      "outputs": [],
      "source": [
        "import pandas as pd\n",
        "datavta = pd.read_csv('DATA_VD.csv', sep=';')\n",
        "display(datavta.head())"
      ]
    },
    {
      "cell_type": "code",
      "source": [
        "print('Este Dataset contiene un total de',datavta.shape[0],'Filas y', datavta.shape[1],'Columnas')"
      ],
      "metadata": {
        "id": "tRaGoFnvZyI-"
      },
      "execution_count": null,
      "outputs": []
    },
    {
      "cell_type": "code",
      "source": [
        "datavta.info(verbose=True,null_counts=True) # Con esto valido que no hayan datos nulos"
      ],
      "metadata": {
        "id": "JfC2o33aXrEQ"
      },
      "execution_count": null,
      "outputs": []
    },
    {
      "cell_type": "code",
      "source": [
        "datavta.describe() # A Continuacion Relaciono las Variables Estadisticas del Dataset"
      ],
      "metadata": {
        "id": "d0gV9tI2Xt07"
      },
      "execution_count": null,
      "outputs": []
    },
    {
      "cell_type": "code",
      "source": [
        "datavta.groupby('NOMBRE REFERENCIA_VD').CANTIDAD_VD.describe() # Agrupo por Referencia y Relaciono las variables Estadistica por Cantidad Vendida por cada referencia"
      ],
      "metadata": {
        "id": "iXiTuyPkX1Q4"
      },
      "execution_count": null,
      "outputs": []
    },
    {
      "cell_type": "code",
      "source": [
        "FechaMin = datavta['FECHA_VD'].min()\n",
        "FechaMax = datavta['FECHA_VD'].max()\n",
        "print('La primera fecha de la Data es ', FechaMin)\n",
        "print('La Ultima fecha de la Data es ', FechaMax)"
      ],
      "metadata": {
        "id": "pwHHV_K2YI6I"
      },
      "execution_count": null,
      "outputs": []
    },
    {
      "cell_type": "code",
      "source": [
        "datavta.groupby('ANO_VD').VALOR_VD.sum() # Total Vendido por año"
      ],
      "metadata": {
        "id": "t-9TTYtpYK2e"
      },
      "execution_count": null,
      "outputs": []
    },
    {
      "cell_type": "code",
      "source": [
        "datavta.groupby('ANO_VD').CANTIDAD_VD.sum() # Total Unidades Vendidas por año"
      ],
      "metadata": {
        "id": "cziRIh-IdG9d"
      },
      "execution_count": null,
      "outputs": []
    },
    {
      "cell_type": "code",
      "source": [
        "datavta.groupby('ANO_VD').VALOR_VD.describe() # Datos Estadisticos Ventas por Año"
      ],
      "metadata": {
        "id": "fiSFUXTEYVWh"
      },
      "execution_count": null,
      "outputs": []
    },
    {
      "cell_type": "code",
      "source": [
        "datavlsUnicos = datavta['COD_REFERENCIA_VD'].unique()\n",
        "print('Se identificaan un total de',datavlsUnicos.shape[0],'Referencias Diferentes\\n')"
      ],
      "metadata": {
        "id": "bBeJZX4_YedK"
      },
      "execution_count": null,
      "outputs": []
    },
    {
      "cell_type": "markdown",
      "source": [
        "# graficar las series de tiempo de cada producto y analizar si tienen tendencia y estacionalidad"
      ],
      "metadata": {
        "id": "_a5EFHdEfUM4"
      }
    },
    {
      "cell_type": "code",
      "source": [
        "df = pd.DataFrame(datavta)\n",
        "df.groupby('COD_REFERENCIA_VD')['VALOR_VD'].sum().sort_values(ascending = False).head(15) #.plot(kind ='bar')"
      ],
      "metadata": {
        "id": "rr5HmLvstjmc"
      },
      "execution_count": null,
      "outputs": []
    },
    {
      "cell_type": "code",
      "source": [
        "import matplotlib\n",
        "from matplotlib import pyplot as plt\n",
        "matplotlib.rcParams.update({'font.size': 8, 'font.family': 'STIXGeneral', 'mathtext.fontset': 'stix'})\n",
        "fig = plt.figure(num=20, figsize=(20,15), dpi=None, facecolor=\"y\", edgecolor=\"b\", frameon=True)\n",
        "# 1. PT076\n",
        "ax = fig.add_subplot(5, 3, 1)\n",
        "ax.grid(True, linestyle='-.', color=\"k\")\n",
        "ax.tick_params(labelcolor='k', labelsize=10, width=3)\n",
        "plt.hist(datavta['CANTIDAD_VD']) \n",
        "plt.xlim(datavta[\"FECHA_VD\"].min(), datavta['FECHA_VD'].max())\n",
        "plt.ylabel('Cantidades Vendidas')\n",
        "plt.title('COMPORTAMIENTO DE VENTA PARA PT076')\n",
        "# 2. PT077\n",
        "ax = fig.add_subplot(5, 3, 2)\n",
        "ax.grid(True, linestyle='-.', color=\"k\")\n",
        "ax.tick_params(labelcolor='k', labelsize=10, width=3)\n",
        "plt.hist(datavta['CANTIDAD_VD']) \n",
        "plt.xlim(datavta[\"FECHA_VD\"].min(), datavta['FECHA_VD'].max())\n",
        "plt.ylabel('Cantidades Vendidas')\n",
        "plt.title('COMPORTAMIENTO DE VENTA PARA PT077')\n",
        "# 3. PT079\n",
        "ax = fig.add_subplot(5, 3, 3)\n",
        "ax.grid(True, linestyle='-.', color=\"k\")\n",
        "ax.tick_params(labelcolor='k', labelsize=10, width=3)\n",
        "plt.hist(datavta['CANTIDAD_VD']) \n",
        "plt.xlim(datavta[\"FECHA_VD\"].min(), datavta['FECHA_VD'].max())\n",
        "plt.ylabel('Cantidades Vendidas')\n",
        "plt.title('COMPORTAMIENTO DE VENTA PARA PT079')\n",
        "# 4. PT084\n",
        "ax = fig.add_subplot(5, 3, 4)\n",
        "ax.grid(True, linestyle='-.', color=\"k\")\n",
        "ax.tick_params(labelcolor='k', labelsize=10, width=3)\n",
        "plt.hist(datavta['CANTIDAD_VD']) \n",
        "plt.xlim(datavta[\"FECHA_VD\"].min(), datavta['FECHA_VD'].max())\n",
        "plt.ylabel('Cantidades Vendidas')\n",
        "plt.title('COMPORTAMIENTO DE VENTA PARA PT084')\n",
        "# 5. PT085\n",
        "ax = fig.add_subplot(5, 3, 5)\n",
        "ax.grid(True, linestyle='-.', color=\"k\")\n",
        "ax.tick_params(labelcolor='k', labelsize=10, width=3)\n",
        "plt.hist(datavta['CANTIDAD_VD']) \n",
        "plt.xlim(datavta[\"FECHA_VD\"].min(), datavta['FECHA_VD'].max())\n",
        "plt.ylabel('Cantidades Vendidas')\n",
        "plt.title('COMPORTAMIENTO DE VENTA PARA PT085')\n",
        "# 6. PT086\n",
        "ax = fig.add_subplot(5, 3, 6)\n",
        "ax.grid(True, linestyle='-.', color=\"k\")\n",
        "ax.tick_params(labelcolor='k', labelsize=10, width=3)\n",
        "plt.hist(datavta['CANTIDAD_VD']) \n",
        "plt.xlim(datavta[\"FECHA_VD\"].min(), datavta['FECHA_VD'].max())\n",
        "plt.ylabel('Cantidades Vendidas')\n",
        "plt.title('COMPORTAMIENTO DE VENTA PARA PT086')\n",
        "# 7. PT098\n",
        "ax = fig.add_subplot(5, 3, 7)\n",
        "ax.grid(True, linestyle='-.', color=\"k\")\n",
        "ax.tick_params(labelcolor='k', labelsize=10, width=3)\n",
        "plt.hist(datavta['CANTIDAD_VD']) \n",
        "plt.xlim(datavta[\"FECHA_VD\"].min(), datavta['FECHA_VD'].max())\n",
        "plt.ylabel('Cantidades Vendidas')\n",
        "plt.title('COMPORTAMIENTO DE VENTA PARA PT098')\n",
        "# 8. PT118\n",
        "ax = fig.add_subplot(5, 3, 8)\n",
        "ax.grid(True, linestyle='-.', color=\"k\")\n",
        "ax.tick_params(labelcolor='k', labelsize=10, width=3)\n",
        "plt.hist(datavta['CANTIDAD_VD']) \n",
        "plt.xlim(datavta[\"FECHA_VD\"].min(), datavta['FECHA_VD'].max())\n",
        "plt.ylabel('Cantidades Vendidas')\n",
        "plt.title('COMPORTAMIENTO DE VENTA PARA PT118')\n",
        "# 9. PT122\n",
        "ax = fig.add_subplot(5, 3, 9)\n",
        "ax.grid(True, linestyle='-.', color=\"k\")\n",
        "ax.tick_params(labelcolor='k', labelsize=10, width=3)\n",
        "plt.hist(datavta['CANTIDAD_VD']) \n",
        "plt.xlim(datavta[\"FECHA_VD\"].min(), datavta['FECHA_VD'].max())\n",
        "plt.ylabel('Cantidades Vendidas')\n",
        "plt.title('COMPORTAMIENTO DE VENTA PARA PT122')\n",
        "# 10. PT125\n",
        "ax = fig.add_subplot(5, 3, 10)\n",
        "ax.grid(True, linestyle='-.', color=\"k\")\n",
        "ax.tick_params(labelcolor='k', labelsize=10, width=3)\n",
        "plt.hist(datavta['CANTIDAD_VD']) \n",
        "plt.xlim(datavta[\"FECHA_VD\"].min(), datavta['FECHA_VD'].max())\n",
        "plt.ylabel('Cantidades Vendidas')\n",
        "plt.title('COMPORTAMIENTO DE VENTA PARA 1PT125')\n",
        "# 11. PT126\n",
        "ax = fig.add_subplot(5, 3, 11)\n",
        "ax.grid(True, linestyle='-.', color=\"k\")\n",
        "ax.tick_params(labelcolor='k', labelsize=10, width=3)\n",
        "plt.hist(datavta['CANTIDAD_VD']) \n",
        "plt.xlim(datavta[\"FECHA_VD\"].min(), datavta['FECHA_VD'].max())\n",
        "plt.ylabel('Cantidades Vendidas')\n",
        "plt.title('COMPORTAMIENTO DE VENTA PARA PT126')\n",
        "# 12. PT127\n",
        "ax = fig.add_subplot(5, 3, 12)\n",
        "ax.grid(True, linestyle='-.', color=\"k\")\n",
        "ax.tick_params(labelcolor='k', labelsize=10, width=3)\n",
        "plt.hist(datavta['CANTIDAD_VD']) \n",
        "plt.xlim(datavta[\"FECHA_VD\"].min(), datavta['FECHA_VD'].max())\n",
        "plt.ylabel('Cantidades Vendidas')\n",
        "plt.title('COMPORTAMIENTO DE VENTA PARA PT127')\n",
        "# 13. PT140\n",
        "ax = fig.add_subplot(5, 3, 13)\n",
        "ax.grid(True, linestyle='-.', color=\"k\")\n",
        "ax.tick_params(labelcolor='k', labelsize=10, width=3)\n",
        "plt.hist(datavta['CANTIDAD_VD']) \n",
        "plt.xlim(datavta[\"FECHA_VD\"].min(), datavta['FECHA_VD'].max())\n",
        "plt.ylabel('Cantidades Vendidas')\n",
        "plt.title('COMPORTAMIENTO DE VENTA PARA PT140')\n",
        "# 14. PT170\n",
        "ax = fig.add_subplot(5, 3, 14)\n",
        "ax.grid(True, linestyle='-.', color=\"k\")\n",
        "ax.tick_params(labelcolor='k', labelsize=10, width=3)\n",
        "plt.hist(datavta['CANTIDAD_VD']) \n",
        "plt.xlim(datavta[\"FECHA_VD\"].min(), datavta['FECHA_VD'].max())\n",
        "plt.ylabel('Cantidades Vendidas')\n",
        "plt.title('COMPORTAMIENTO DE VENTA PARA PT170')\n",
        "# 15. PT189\n",
        "ax = fig.add_subplot(5, 3, 15)\n",
        "ax.grid(True, linestyle='-.', color=\"k\")\n",
        "ax.tick_params(labelcolor='k', labelsize=10, width=3)\n",
        "plt.hist(datavta['CANTIDAD_VD']) \n",
        "plt.xlim(datavta[\"FECHA_VD\"].min(), datavta['FECHA_VD'].max())\n",
        "plt.ylabel('Cantidades Vendidas')\n",
        "plt.title('COMPORTAMIENTO DE VENTA PARA PT189')\n",
        "plt.show()"
      ],
      "metadata": {
        "id": "XXB3vbnn9neA"
      },
      "execution_count": null,
      "outputs": []
    },
    {
      "cell_type": "code",
      "source": [
        "datavta.groupby(['FECHA_VD']).CANTIDAD_VD.sum().plot(figsize=(25,3))"
      ],
      "metadata": {
        "id": "ZUpGqCG-P9Qa"
      },
      "execution_count": null,
      "outputs": []
    }
  ]
}